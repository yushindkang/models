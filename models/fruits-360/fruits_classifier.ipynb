{
 "cells": [
  {
   "cell_type": "code",
   "execution_count": 2,
   "id": "d8cbd7ca-bb49-4396-8dad-c32e3ad1ed0b",
   "metadata": {},
   "outputs": [],
   "source": [
    "import numpy as np\n",
    "import os\n",
    "import glob\n",
    "from PIL import Image as PI\n",
    "import matplotlib.pyplot as plt"
   ]
  },
  {
   "cell_type": "code",
   "execution_count": 3,
   "id": "598e13d2-0c5e-4b23-bc0e-07a0cd5691e1",
   "metadata": {},
   "outputs": [],
   "source": [
    "def load_train_data():\n",
    "\n",
    "    train_x = []\n",
    "    train_y = []\n",
    "\n",
    "    image_names = []\n",
    "    folders = glob.glob(\"../Training/*\")\n",
    "#    for folder in folders:\n",
    "    for i in range(1):\n",
    "        for file in glob.glob(folders[i] + '/*.jpg'):\n",
    "            image_names.append(file)\n",
    "            with open(os.path.join(file), 'rb') as i:\n",
    "                img = PI.open(i)\n",
    "                img_sequence = img.getdata()\n",
    "                img_array = np.array(img_sequence)\n",
    "                train_x.append(img_array)\n",
    "\n",
    "            dir_path = os.path.dirname(file)\n",
    "            folder_name = os.path.basename(dir_path)\n",
    "            train_y.append(folder_name)\n",
    "\n",
    "    return np.array(train_x), np.array([train_y])"
   ]
  },
  {
   "cell_type": "code",
   "execution_count": 4,
   "id": "0dfd5c41-d52b-4635-9771-9c5aa59abbe3",
   "metadata": {},
   "outputs": [],
   "source": [
    "def init_parameters_deep(layer_dims):\n",
    "    np.random.seed(3)\n",
    "\n",
    "    parameters = {}\n",
    "\n",
    "    L = len(layer_dims)\n",
    "\n",
    "    for l in range(1, L):\n",
    "        parameters['W' + str(l)] = np.random.randn(layer_dims[l], layer_dims[l-1]) * 0.01\n",
    "        parameters['b' + str(l)] = np.zeros((layer_dims[l], 1))\n",
    "\n",
    "        assert(parameters['W' + str(l)].shape == (layer_dims[l], layer_dims[l - 1]))\n",
    "        assert(parameters['b' + str(l)].shape == (layer_dims[l], 1))\n",
    "\n",
    "    return parameters"
   ]
  },
  {
   "cell_type": "code",
   "execution_count": 5,
   "id": "084dd360-3d22-4021-9868-628b61f5edbc",
   "metadata": {},
   "outputs": [],
   "source": [
    "# Linear part of the layer's forward propagation.\n",
    "def linear_forward(A, W, b):\n",
    "\n",
    "    Z = np.dot(W, A) + b\n",
    "\n",
    "    cache = (A, W, b)\n",
    "\n",
    "    return Z, cache\n"
   ]
  },
  {
   "cell_type": "code",
   "execution_count": 6,
   "id": "4775126b-0de7-43b2-960f-5dd0088556cf",
   "metadata": {},
   "outputs": [],
   "source": [
    "def linear_activation_forward(A_prev, W, b, activation):\n",
    "    if activation == \"sigmoid\":\n",
    "        Z, linear_cache = linear_forward(A_prev, W, b)\n",
    "        A, activation_cache = sigmoid(Z)\n",
    "    \n",
    "    elif activation == \"relu\":\n",
    "        Z, linear_cache = linear_forward(A_prev, W, b)\n",
    "        A, activation_cache = relu(Z)\n",
    "    \n",
    "    cache = (linear_cache, activation_cache)\n",
    "    \n",
    "    return A, cache\n",
    "        "
   ]
  },
  {
   "cell_type": "code",
   "execution_count": 7,
   "id": "57e8e7bf-b6ec-497e-b243-0ed56a27f941",
   "metadata": {
    "tags": []
   },
   "outputs": [],
   "source": [
    "def sigmoid(Z):   \n",
    "    A = 1/(1+np.exp(-Z))\n",
    "    \n",
    "    cache = Z\n",
    "    \n",
    "    return A, cache"
   ]
  },
  {
   "cell_type": "code",
   "execution_count": 8,
   "id": "b299f4cc-d539-40af-bfa7-c382e81f1f51",
   "metadata": {
    "tags": []
   },
   "outputs": [],
   "source": [
    "def relu(Z): \n",
    "    A = np.maximum(0,Z)\n",
    "    \n",
    "    assert(A.shape == Z.shape)\n",
    "        \n",
    "    cache = Z\n",
    "    \n",
    "    return A, cache"
   ]
  },
  {
   "cell_type": "code",
   "execution_count": 9,
   "id": "e508da3c-5d0d-4976-bc22-8fa6dbbee89f",
   "metadata": {
    "tags": []
   },
   "outputs": [],
   "source": [
    "def sigmoid_backward(dA, cache):\n",
    "    Z = cache\n",
    "    \n",
    "    s = 1/(1+np.exp(-Z))\n",
    "    \n",
    "    dZ = dA * s * (1-s)\n",
    "    \n",
    "    assert (dZ.shape == Z.shape)\n",
    "    \n",
    "    return dZ"
   ]
  },
  {
   "cell_type": "code",
   "execution_count": 10,
   "id": "f2d34ac3-0085-45e5-acff-e8ed117f6fa1",
   "metadata": {
    "tags": []
   },
   "outputs": [],
   "source": [
    "def relu_backward(dA, cache):\n",
    "    Z = cache\n",
    "    \n",
    "    dZ = np.array(dA, copy=True) # Set dz to correct object.\n",
    "    \n",
    "    dZ[Z <= 0] = 0\n",
    "    \n",
    "    assert(dZ.shape == Z.shape)\n",
    "    \n",
    "    return dZ"
   ]
  },
  {
   "cell_type": "code",
   "execution_count": 11,
   "id": "ec417b53-3f29-429a-91ac-d2dff972acd7",
   "metadata": {},
   "outputs": [],
   "source": [
    "def L_model_forward(X, parameters):\n",
    "    caches = []\n",
    "    A = X\n",
    "    L = len(parameters) // 2\n",
    "#     print(\"Inside l model forward, L: \", L)\n",
    "    \n",
    "    for l in range(1, L):\n",
    "        A_prev = A\n",
    "        \n",
    "        W = parameters[\"W\" + str(l)]\n",
    "        b = parameters[\"b\" + str(l)]\n",
    "        A, cache = linear_activation_forward(A_prev, W, b, \"relu\")\n",
    "        caches.append(cache)\n",
    "        \n",
    "    \n",
    "    W = parameters[\"W\" + str(L)]\n",
    "    b = parameters[\"b\" + str(L)]\n",
    "    AL, cache = linear_activation_forward(A, W, b, \"sigmoid\")\n",
    "    \n",
    "    caches.append(cache)\n",
    "    \n",
    "    return AL, caches"
   ]
  },
  {
   "cell_type": "code",
   "execution_count": 12,
   "id": "abe91484-f8f6-4680-b46a-59d535325101",
   "metadata": {},
   "outputs": [],
   "source": [
    "def compute_cost(AL, Y):\n",
    "    m = Y.shape[1]\n",
    "    \n",
    "    logprobs = np.multiply(Y, np.log(AL)) + (1 - Y) * (np.log(1 - AL))\n",
    "    \n",
    "    cost = - np.sum(logprobs)/m\n",
    "    \n",
    "    cost = np.squeeze(cost)\n",
    "    \n",
    "    return cost"
   ]
  },
  {
   "cell_type": "code",
   "execution_count": 13,
   "id": "543ee98d-b3da-40c2-962a-8bad8fe29b55",
   "metadata": {},
   "outputs": [],
   "source": [
    "def linear_backward(dZ, cache):\n",
    "    A_prev, W, b = cache\n",
    "    \n",
    "    m = A_prev.shape[1]\n",
    "    \n",
    "    dW = (1/m) * np.dot(dZ, A_prev.T)\n",
    "    db = (1/m) * np.sum(dZ, axis=1, keepdims=True) # sum by the rows of dZ with keepdims=True\n",
    "    dA_prev = np.dot(W.T, dZ)\n",
    "    \n",
    "    return dA_prev, dW, db"
   ]
  },
  {
   "cell_type": "code",
   "execution_count": 14,
   "id": "9564119b-8d27-4a2c-9e56-3ae040c52165",
   "metadata": {},
   "outputs": [],
   "source": [
    "def linear_activation_backward(dA, cache, activation):\n",
    "    linear_cache, activation_cache = cache\n",
    "    \n",
    "    if activation == \"relu\":\n",
    "        dZ = relu_backward(dA, activation_cache)\n",
    "        dA_prev, dW, db = linear_backward(dZ, linear_cache)\n",
    "    elif activation == \"sigmoid\":\n",
    "        dZ = sigmoid_backward(dA, activation_cache)\n",
    "        dA_prev, dW, db = linear_backward(dZ, linear_cache)\n",
    "    \n",
    "    return dA_prev, dW, db"
   ]
  },
  {
   "cell_type": "code",
   "execution_count": 15,
   "id": "bb080a0f-1aaf-41c3-a449-663e696e7a6c",
   "metadata": {},
   "outputs": [],
   "source": [
    "def L_model_backward(AL, Y, caches):\n",
    "    grads = {}\n",
    "    \n",
    "    L = len(caches)\n",
    "#     print(\"L model backward, L: \", L)\n",
    "    \n",
    "    m = AL.shape[1]\n",
    "#     print(\"AL shape: \", AL.shape)\n",
    "#     print(\"L model backward, m: \", m)\n",
    "    \n",
    "#     print(\"L model backward, Y before reshape: \", Y.shape)\n",
    "    Y = Y.reshape(AL.shape)\n",
    "#     print(\"L model backward, Y after reshape: \", Y.shape)\n",
    "    \n",
    "    # Initializing the backpropagation\n",
    "    dAL = - (np.divide(Y, AL) - np.divide(1 - Y, 1 - AL))\n",
    "          \n",
    "    # Lth layer (SIGMOID -> LINEAR) gradients. Inputs: \"dAL, current_cache\". Outputs: \"grads[\"dAL-1\"], grads[\"dWL\"], grads[\"dbL\"]\n",
    "    current_cache = caches[L-1]\n",
    "    dA_prev_temp, dW_temp, db_temp = linear_activation_backward(dAL, current_cache, \"sigmoid\")\n",
    "    grads[\"dA\" + str(L-1)] = dA_prev_temp\n",
    "    grads[\"dW\" + str(L)] = dW_temp\n",
    "    grads[\"db\" + str(L)] = db_temp\n",
    "    \n",
    "    # Loop from l=L-2 to l=0\n",
    "    for l in reversed(range(L-1)):\n",
    "        # lth layer: (RELU -> LINEAR) gradients.\n",
    "        # Inputs: \"grads[\"dA\" + str(l + 1)], current_cache\". Outputs: \"grads[\"dA\" + str(l)] , grads[\"dW\" + str(l + 1)] , grads[\"db\" + str(l + 1)] \n",
    "        current_cache = caches[l]\n",
    "        dA_prev_temp, dW_temp, db_temp = linear_activation_backward(dA_prev_temp, current_cache, \"relu\")\n",
    "        grads[\"dA\" + str(l)] = dA_prev_temp\n",
    "        grads[\"dW\" + str(l + 1)] = dW_temp\n",
    "        grads[\"db\" + str(l + 1)] = db_temp\n",
    "\n",
    "\n",
    "    return grads"
   ]
  },
  {
   "cell_type": "code",
   "execution_count": 16,
   "id": "eab68e19-d33d-4986-8b37-f9957fe38f18",
   "metadata": {},
   "outputs": [],
   "source": [
    "def update_parameters(params, grads, learning_rate):\n",
    "    parameters = params.copy()\n",
    "    \n",
    "    L = len(parameters) // 2\n",
    "    \n",
    "    for l in range(L):\n",
    "        parameters[\"W\" + str(l+1)] = parameters[\"W\" + str(l+1)] - learning_rate * grads[\"dW\" + str(l + 1)]\n",
    "        parameters[\"b\" + str(l+1)] = parameters[\"b\" + str(l+1)] - learning_rate * grads[\"db\" + str(l + 1)]\n",
    "    \n",
    "    return parameters "
   ]
  },
  {
   "cell_type": "code",
   "execution_count": 17,
   "id": "0287e4ab-fe85-4264-a4eb-18284b92f145",
   "metadata": {},
   "outputs": [],
   "source": [
    "def L_layer_model(X, Y, layers_dims, learning_rate, num_iterations, print_cost=False):\n",
    "    parameters = init_parameters_deep(layers_dims)\n",
    "    \n",
    "    costs = []\n",
    "    \n",
    "    for i in range(0, num_iterations):\n",
    "        AL, caches = L_model_forward(X, parameters)\n",
    "                \n",
    "        cost = compute_cost(AL, Y)\n",
    "         \n",
    "        grads = L_model_backward(AL, Y, caches)\n",
    "        \n",
    "        parameters = update_parameters(parameters, grads, learning_rate)\n",
    "        \n",
    "        # Print the cost every 100 training example\n",
    "        if print_cost and i % 100 == 0:\n",
    "            print (\"Cost after iteration %i: %f\" %(i, cost))\n",
    "        if print_cost and i % 100 == 0:\n",
    "            costs.append(cost)\n",
    "    \n",
    "    # Plot the cost.\n",
    "    plt.plot(np.squeeze(costs))\n",
    "    plt.ylabel('cost')\n",
    "    plt.xlabel('iterations (per hundreds)')\n",
    "    plt.title(\"Learning rate =\" + str(learning_rate))\n",
    "    plt.show()\n",
    "    \n",
    "    return parameters, costs"
   ]
  },
  {
   "cell_type": "code",
   "execution_count": 18,
   "id": "4bb1ad90-b0bc-4a72-bb03-736e716e4ba4",
   "metadata": {},
   "outputs": [],
   "source": [
    "def init_int_mapping_y(train_y):\n",
    "    \n",
    "    # Get list of all types of fruit/veg.\n",
    "    folders = glob.glob(\"../Training/*\")\n",
    "    words_y = []\n",
    "    \n",
    "    for folder in folders:\n",
    "        dir_path = os.path.basename(folder)\n",
    "        words_y.append(dir_path)\n",
    "    \n",
    "    words_y.sort()\n",
    "    \n",
    "    # Get num training examples and num of possible answers.\n",
    "    m = train_y.shape[1]\n",
    "    num_possible_answers = len(words_y)\n",
    "    \n",
    "    # Create a word to int dict for every type of fruit/veg.\n",
    "    word_to_int_y = {}\n",
    "    for i in range(num_possible_answers):\n",
    "        key = \"[\\'\" + words_y[i] +    \"\\']\"\n",
    "        word_to_int_y[key] = i\n",
    "        \n",
    "        \n",
    "    # Create a list of ints mapped from fruits and veg. Size is equal to m.\n",
    "    new_int_y = []\n",
    "    for word in train_y.T:\n",
    "        key = np.array2string(word)\n",
    "        int_y = word_to_int_y[key]\n",
    "        new_int_y.append(int_y)\n",
    "    \n",
    "    # Initliaise array of zeros with dims: possible_answers x m\n",
    "    final_init_y = np.zeros((num_possible_answers, m))\n",
    "    print(\"zeros shape: \", final_init_y.shape)\n",
    "    \n",
    "    # Initalise \"1\" for the \"ith\" position in each training example.\n",
    "    # The position of the \"1\" represents the fruit or vegetable.\n",
    "    i = 0\n",
    "    for single_zero_array, y_int_mapping in zip(final_init_y.T, new_int_y):\n",
    "        single_zero_array[y_int_mapping] = 1\n",
    "    \n",
    "    \n",
    "#     (unique, count) = np.unique(zeros, return_counts=True)\n",
    "    \n",
    "#     print(\"unique: \", unique)\n",
    "#     print(\"count: \", count)\n",
    "    \n",
    "    \n",
    "    return final_init_y\n",
    "\n",
    "\n",
    "\n",
    "    "
   ]
  },
  {
   "cell_type": "code",
   "execution_count": 19,
   "id": "7de48374-b8d5-406e-a193-3c45962815ef",
   "metadata": {
    "tags": []
   },
   "outputs": [
    {
     "name": "stdout",
     "output_type": "stream",
     "text": [
      "loading training data...\n",
      "train_x original:  (479, 10000, 3)\n",
      "train_y original:  (1, 479)\n",
      "train_x after flatten:  (30000, 479)\n",
      "zeros shape:  (131, 479)\n",
      "Y shape after int init:  (131, 479)\n",
      "# layers L:  3\n",
      "# training examples:  479\n",
      "# output values:  131\n",
      "Running model...\n",
      "Cost after iteration 0: 90.800148\n",
      "Cost after iteration 100: 0.006619\n",
      "Cost after iteration 200: 0.002772\n",
      "Cost after iteration 300: 0.001703\n",
      "Cost after iteration 400: 0.001212\n",
      "Cost after iteration 500: 0.000934\n",
      "Cost after iteration 600: 0.000756\n",
      "Cost after iteration 700: 0.000633\n",
      "Cost after iteration 800: 0.000543\n",
      "Cost after iteration 900: 0.000474\n",
      "Cost after iteration 1000: 0.000421\n",
      "Cost after iteration 1100: 0.000377\n",
      "Cost after iteration 1200: 0.000342\n",
      "Cost after iteration 1300: 0.000312\n",
      "Cost after iteration 1400: 0.000287\n",
      "Cost after iteration 1500: 0.000265\n",
      "Cost after iteration 1600: 0.000247\n",
      "Cost after iteration 1700: 0.000230\n",
      "Cost after iteration 1800: 0.000216\n",
      "Cost after iteration 1900: 0.000203\n",
      "Cost after iteration 2000: 0.000192\n",
      "Cost after iteration 2100: 0.000182\n",
      "Cost after iteration 2200: 0.000172\n",
      "Cost after iteration 2300: 0.000164\n",
      "Cost after iteration 2400: 0.000156\n",
      "Cost after iteration 2500: 0.000149\n",
      "Cost after iteration 2600: 0.000143\n",
      "Cost after iteration 2700: 0.000137\n",
      "Cost after iteration 2800: 0.000131\n",
      "Cost after iteration 2900: 0.000126\n"
     ]
    },
    {
     "data": {
      "image/png": "[encoded data removed]",
      "text/plain": [
       "<Figure size 432x288 with 1 Axes>"
      ]
     },
     "metadata": {
      "needs_background": "light"
     },
     "output_type": "display_data"
    },
    {
     "name": "stdout",
     "output_type": "stream",
     "text": [
      "Model complete...\n"
     ]
    }
   ],
   "source": [
    "if __name__ == \"__main__\":\n",
    "    # Load training data.\n",
    "    train_x, train_y = load_train_data()\n",
    "    print(\"loading training data...\")\n",
    "    print(\"train_x original: \", train_x.shape)\n",
    "    print(\"train_y original: \", train_y.shape)\n",
    "\n",
    "    # Flatten train_x (every col is a training example) and normalise values to a range between 0 and 1.\n",
    "    train_x_flatten = train_x.reshape(train_x.shape[0], -1).T\n",
    "    train_x = train_x_flatten / 255\n",
    "    print(\"train_x after flatten: \", train_x_flatten.shape)\n",
    "    \n",
    "    # Map train_y to array of integer values\n",
    "    train_int_y = init_int_mapping_y(train_y)\n",
    "    print(\"Y shape after int init: \", train_int_y.shape)\n",
    "\n",
    "    # 3 layer network. Input layer = 100 pixels x 100 pixels x 3 rgb. Output layer = 131 = # possible fruits/veg.\n",
    "    layer_dims = [30000, 20, 20, 131]\n",
    "    parameters = init_parameters_deep(layer_dims)\n",
    "    print(\"# layers L: \", len(parameters)//2)\n",
    "#     for k, v in parameters.items():\n",
    "#         print(\"key: \", k)\n",
    "#         print(\"value shape: \", v.shape)\n",
    "    \n",
    "    print(\"# training examples: \", train_x.shape[1])\n",
    "    print(\"# output values: \", train_int_y.shape[0])\n",
    "        \n",
    "    print(\"Running model...\")\n",
    "    # L_layer_model(X, Y, layers_dims, learning_rate, num_iterations, print_cost=False)\n",
    "    parameters, costs = L_layer_model(train_x, train_int_y, layer_dims, 0.0075, num_iterations=3000, print_cost=True)\n",
    "    print(\"Model complete...\")\n",
    "    \n",
    "    \n",
    "    \n",
    "        "
   ]
  },
  {
   "cell_type": "code",
   "execution_count": null,
   "id": "da187288-5b60-447d-b0f4-31e687ca1a0b",
   "metadata": {},
   "outputs": [],
   "source": []
  },
  {
   "cell_type": "code",
   "execution_count": null,
   "id": "74dda209-39b9-418b-8f88-6c6204468424",
   "metadata": {},
   "outputs": [],
   "source": []
  },
  {
   "cell_type": "code",
   "execution_count": null,
   "id": "779e65fe-4833-46b0-bce8-aca5ff270937",
   "metadata": {},
   "outputs": [],
   "source": []
  }
 ],
 "metadata": {
  "kernelspec": {
   "display_name": "Python 3 (ipykernel)",
   "language": "python",
   "name": "python3"
  },
  "language_info": {
   "codemirror_mode": {
    "name": "ipython",
    "version": 3
   },
   "file_extension": ".py",
   "mimetype": "text/x-python",
   "name": "python",
   "nbconvert_exporter": "python",
   "pygments_lexer": "ipython3",
   "version": "3.8.2"
  }
 },
 "nbformat": 4,
 "nbformat_minor": 5
}
